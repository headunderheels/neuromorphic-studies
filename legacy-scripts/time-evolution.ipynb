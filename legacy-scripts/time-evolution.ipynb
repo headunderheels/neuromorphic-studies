{
 "cells": [
  {
   "cell_type": "markdown",
   "metadata": {},
   "source": [
    "# Plotting Simhit Timing"
   ]
  },
  {
   "cell_type": "code",
   "execution_count": 17,
   "metadata": {},
   "outputs": [],
   "source": [
    "import ROOT\n",
    "import pyLCIO as LCIO"
   ]
  },
  {
   "cell_type": "code",
   "execution_count": 2,
   "metadata": {},
   "outputs": [],
   "source": [
    "# %%bash\n",
    "# anajob /home/rhillman/work/data/DataMuC_MuColl10_v0A/v2/reco/photonGun_E_0_50/photonGun_E_0_50_reco_0.slcio"
   ]
  },
  {
   "cell_type": "code",
   "execution_count": 18,
   "metadata": {},
   "outputs": [],
   "source": [
    "in_file = \"/home/rhillman/work/data/DataMuC_MuColl10_v0A/v2/reco/photonGun_E_0_50/photonGun_E_0_50_reco_0.slcio\" # File to read.\n",
    "collections = [\"ECalBarrelCollection\", \"ECalEndcapCollection\"]  # What collections to include?\n",
    "\n",
    "reader = LCIO.IOIMPL.LCFactory.getInstance().createLCReader(LCIO.IO.LCReader.directAccess)   # Create LCIO file reader.\n",
    "reader.setReadCollectionNames(collections)  # Set collections to be read.\n",
    "reader.open(in_file)    # Open collections.\n",
    "\n",
    "event1 = reader.readEvent(1, 1) # This step works, but I can't use LCEvent methods on it for some reason? Even though event1 is an LCEvent type.\n",
    "\n",
    "# event1.someLCEventMethod() # All LCEvent methods seem to break here. \"Attempt to access a null pointer.\"\n",
    "\n",
    "# I know I could also just use a for loop, but the scope is too large, so the kernel fails. So how do I access simhits from a single event?"
   ]
  }
 ],
 "metadata": {
  "kernelspec": {
   "display_name": "Python 3 (ipykernel)",
   "language": "python",
   "name": "python3"
  },
  "language_info": {
   "codemirror_mode": {
    "name": "ipython",
    "version": 3
   },
   "file_extension": ".py",
   "mimetype": "text/x-python",
   "name": "python",
   "nbconvert_exporter": "python",
   "pygments_lexer": "ipython3",
   "version": "3.9.10"
  }
 },
 "nbformat": 4,
 "nbformat_minor": 2
}
