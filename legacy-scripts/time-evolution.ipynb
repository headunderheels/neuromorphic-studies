{
 "cells": [
  {
   "cell_type": "markdown",
   "metadata": {},
   "source": [
    "# Plotting Simhit Timing"
   ]
  },
  {
   "cell_type": "code",
   "execution_count": 1,
   "metadata": {},
   "outputs": [
    {
     "name": "stdout",
     "output_type": "stream",
     "text": [
      "Welcome to JupyROOT 6.26/06\n",
      "Loading LCIO ROOT dictionaries ...\n"
     ]
    }
   ],
   "source": [
    "import ROOT\n",
    "import pyLCIO as LCIO"
   ]
  },
  {
   "cell_type": "code",
   "execution_count": 2,
   "metadata": {},
   "outputs": [
    {
     "name": "stdout",
     "output_type": "stream",
     "text": [
      "Time of first hit contribution in event (0): 1840.13330078125 ns\n"
     ]
    }
   ],
   "source": [
    "in_file = \"/home/rhillman/work/data/DataMuC_MuColl10_v0A/v2/reco/photonGun_E_0_50/photonGun_E_0_50_reco_0.slcio\" # File to read.\n",
    "collections = [\"ECalBarrelCollection\", \"ECalEndcapCollection\"]  # What collections to include?\n",
    "\n",
    "reader = LCIO.IOIMPL.LCFactory.getInstance().createLCReader(LCIO.IO.LCReader.directAccess)   # Create LCIO file reader.\n",
    "reader.setReadCollectionNames(collections)  # Set collections to be read.\n",
    "reader.open(in_file)    # Open collections.\n",
    "\n",
    "event = reader.readNextEvent().getEventNumber()\n",
    "# time = reader.readNextEvent().getCollection(\"ECalBarrelCollection\").getElementAt(1).getTimeCont(1)\n",
    "\n",
    "time = reader.readNextEvent().getCollection(\"ECalBarrelCollection\").getElementAt(0).getTimeCont(0)\n",
    "print(f\"Time of first hit contribution in event ({event}): {time} ns\")"
   ]
  },
  {
   "cell_type": "code",
   "execution_count": 3,
   "metadata": {},
   "outputs": [],
   "source": [
    "# h1 = ROOT.TH2D(name=\"zt_cal\", \n",
    "#                title=\"zt_cal\",\n",
    "#                nbinsx=6,\n",
    "#                xlow=0,\n",
    "#                xup=100,\n",
    "#                nbinsy=6,\n",
    "#                ylow=0,\n",
    "#                yup=100,\n",
    "#                )"
   ]
  },
  {
   "cell_type": "code",
   "execution_count": null,
   "metadata": {},
   "outputs": [
    {
     "ename": "",
     "evalue": "",
     "output_type": "error",
     "traceback": [
      "\u001b[1;31mThe Kernel crashed while executing code in the current cell or a previous cell. \n",
      "\u001b[1;31mPlease review the code in the cell(s) to identify a possible cause of the failure. \n",
      "\u001b[1;31mClick <a href='https://aka.ms/vscodeJupyterKernelCrash'>here</a> for more info. \n",
      "\u001b[1;31mView Jupyter <a href='command:jupyter.viewOutput'>log</a> for further details."
     ]
    },
    {
     "ename": "",
     "evalue": "",
     "output_type": "error",
     "traceback": [
      "\u001b[1;31mCanceled future for execute_request message before replies were done"
     ]
    },
    {
     "ename": "",
     "evalue": "",
     "output_type": "error",
     "traceback": [
      "\u001b[1;31mCanceled future for execute_request message before replies were done. \n",
      "\u001b[1;31mView Jupyter <a href='command:jupyter.viewOutput'>log</a> for further details."
     ]
    }
   ],
   "source": [
    "# Culprit loop\n",
    "event = reader.readNextEvent()\n",
    "i=0\n",
    "for simhit in event:\n",
    "    simhit[1].getElementAt(index=i)\n",
    "    i = i + 1\n",
    "\n",
    "# Also tried\n",
    "# for event in reader:\n",
    "#     i=0\n",
    "#     for simhit in event:\n",
    "#         simhit[1].getElementAt(index=i)\n",
    "#         i = i + 1"
   ]
  },
  {
   "cell_type": "code",
   "execution_count": null,
   "metadata": {},
   "outputs": [],
   "source": []
  },
  {
   "cell_type": "code",
   "execution_count": null,
   "metadata": {},
   "outputs": [],
   "source": []
  }
 ],
 "metadata": {
  "kernelspec": {
   "display_name": "Python 3 (ipykernel)",
   "language": "python",
   "name": "python3"
  },
  "language_info": {
   "codemirror_mode": {
    "name": "ipython",
    "version": 3
   },
   "file_extension": ".py",
   "mimetype": "text/x-python",
   "name": "python",
   "nbconvert_exporter": "python",
   "pygments_lexer": "ipython3",
   "version": "3.9.10"
  }
 },
 "nbformat": 4,
 "nbformat_minor": 2
}
