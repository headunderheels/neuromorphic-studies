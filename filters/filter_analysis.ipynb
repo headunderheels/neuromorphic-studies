{
 "cells": [
  {
   "cell_type": "markdown",
   "metadata": {},
   "source": [
    "# Filter Control Study\n",
    "\n",
    "In this notebook we will create several cellwise energy filters based on simulation data for three different energy domains.\n",
    "\n",
    "We will create and analyze several filters:\n",
    "- Subtract overall average energy from each cell.\n",
    "- Subtract average energy by layer.\n",
    "- Subtract energy weighted by z coordinate.\n",
    "- Maybe some FFT stuff with time binning."
   ]
  },
  {
   "cell_type": "code",
   "execution_count": 1,
   "metadata": {},
   "outputs": [
    {
     "ename": "ModuleNotFoundError",
     "evalue": "No module named 'ROOT'",
     "output_type": "error",
     "traceback": [
      "\u001b[0;31m---------------------------------------------------------------------------\u001b[0m",
      "\u001b[0;31mModuleNotFoundError\u001b[0m                       Traceback (most recent call last)",
      "Cell \u001b[0;32mIn[1], line 2\u001b[0m\n\u001b[1;32m      1\u001b[0m \u001b[38;5;66;03m# Imports ======================================================================\u001b[39;00m\n\u001b[0;32m----> 2\u001b[0m \u001b[38;5;28;01mimport\u001b[39;00m \u001b[38;5;21;01mROOT\u001b[39;00m \u001b[38;5;28;01mas\u001b[39;00m \u001b[38;5;21;01mroot\u001b[39;00m\n\u001b[1;32m      3\u001b[0m \u001b[38;5;28;01mimport\u001b[39;00m \u001b[38;5;21;01mpyLCIO\u001b[39;00m \u001b[38;5;28;01mas\u001b[39;00m \u001b[38;5;21;01mlcio\u001b[39;00m\n\u001b[1;32m      4\u001b[0m \u001b[38;5;28;01mimport\u001b[39;00m \u001b[38;5;21;01mpandas\u001b[39;00m \u001b[38;5;28;01mas\u001b[39;00m \u001b[38;5;21;01mpd\u001b[39;00m\n",
      "\u001b[0;31mModuleNotFoundError\u001b[0m: No module named 'ROOT'"
     ]
    }
   ],
   "source": [
    "# Imports ======================================================================\n",
    "import ROOT as root\n",
    "import pyLCIO as lcio\n",
    "import pandas as pd\n",
    "import numpy as np\n",
    "from glob import glob\n",
    "from pprint import pprint\n",
    "from itertools import zip_longest\n",
    "\n",
    "# Functionality ================================================================\n",
    "root.EnableImplicitMT()  # Multithreading\n",
    "\n",
    "# =============================================================================="
   ]
  },
  {
   "cell_type": "code",
   "execution_count": null,
   "metadata": {},
   "outputs": [],
   "source": [
    "# Stylization ==================================================================\n",
    "root.gStyle.SetOptTitle(0)  # Remove title from hists so you can add a customized one\n",
    "# ROOT.gStyle.SetTitleTextColor(17)\n",
    "# ROOT.gStyle.SetTitleAlign(23)\n",
    "root.gStyle.SetOptStat(0)\n",
    "root.gStyle.SetCanvasColor(1)\n",
    "root.gStyle.SetTitleColor(17, \"XYZ\")\n",
    "root.gStyle.SetTitleSize(.023, \"XYZ\")\n",
    "root.gStyle.SetTitleOffset(1.2, \"X\")\n",
    "root.gStyle.SetTitleOffset(1, \"Y\")\n",
    "root.gStyle.SetLabelColor(17, \"XYZ\")\n",
    "root.gStyle.SetLabelOffset()\n",
    "root.gStyle.SetNdivisions(103, \"XY\")\n",
    "root.gStyle.SetAxisColor(17, \"XYZ\")\n",
    "root.gStyle.SetLabelSize(0.02, \"XYZ\")\n",
    "root.gStyle.SetPalette(root.kDarkBodyRadiator)\n",
    "root.gStyle.SetCanvasPreferGL(1)\n",
    "\n",
    "# =============================================================================="
   ]
  },
  {
   "cell_type": "code",
   "execution_count": null,
   "metadata": {},
   "outputs": [
    {
     "data": {
      "text/plain": [
       "{'SIG': [],\n",
       " 'BIB': ['/data/fmeloni/DataMuC_MuColl10_v0A/v2/recoBIB/nuGun_pT_0_50/nuGun_pT_0_50_reco_1760.slcio']}"
      ]
     },
     "execution_count": 3,
     "metadata": {},
     "output_type": "execute_result"
    }
   ],
   "source": [
    "# Function for dynamically-scalable file getting.\n",
    "def get_files(num_files):\n",
    "    NUM_EVENTS_PER_SIG_FILE = 100\n",
    "    NUM_EVENTS_PER_BIB_FILE = 10\n",
    "    files = {\n",
    "        'SIG' : glob('/scratch/rhillman/data/*_???.parquet'), \n",
    "        'BIB' : glob('/data/fmeloni/DataMuC_MuColl10_v0A/v2/recoBIB/nuGun_pT_0_50/*.slcio')\n",
    "        }\n",
    "    files['SIG'] = files['SIG'][:num_files]\n",
    "    files['BIB'] = files['BIB'][:num_files]\n",
    "    return files\n",
    "\n",
    "files = get_files(1)\n",
    "files"
   ]
  },
  {
   "cell_type": "code",
   "execution_count": null,
   "metadata": {},
   "outputs": [],
   "source": [
    "# %%bash\n",
    "# anajob /data/fmeloni/DataMuC_MuColl10_v0A/v2/recoBIB/nuGun_pT_0_50/nuGun_pT_0_50_reco_1760.slcio"
   ]
  },
  {
   "cell_type": "markdown",
   "metadata": {},
   "source": [
    "Now that we have a list of available files, we need to be able to parse them. Let's write a function to parse a file and extract relevant information."
   ]
  },
  {
   "cell_type": "markdown",
   "metadata": {},
   "source": [
    "We need 2 quantities with a variable threshold (filter threshold).\n",
    "- Signal efficiency (pf-SIG-energy / tot-SIG-energy)\n",
    "- BIB efficiency (pf-BIB-energy / tot-BIB-energy)"
   ]
  },
  {
   "cell_type": "code",
   "execution_count": null,
   "metadata": {},
   "outputs": [
    {
     "ename": "IndexError",
     "evalue": "list index out of range",
     "output_type": "error",
     "traceback": [
      "\u001b[0;31m---------------------------------------------------------------------------\u001b[0m",
      "\u001b[0;31mIndexError\u001b[0m                                Traceback (most recent call last)",
      "Cell \u001b[0;32mIn[5], line 9\u001b[0m\n\u001b[1;32m      5\u001b[0m     \u001b[38;5;28;01mreturn\u001b[39;00m reader\n\u001b[1;32m      7\u001b[0m collections \u001b[38;5;241m=\u001b[39m [\u001b[38;5;124m'\u001b[39m\u001b[38;5;124mECalBarrelCollection\u001b[39m\u001b[38;5;124m'\u001b[39m, \u001b[38;5;124m'\u001b[39m\u001b[38;5;124mECalEndcapCollection\u001b[39m\u001b[38;5;124m'\u001b[39m]\n\u001b[0;32m----> 9\u001b[0m reader_sig \u001b[38;5;241m=\u001b[39m read_file(\u001b[43mfiles\u001b[49m\u001b[43m[\u001b[49m\u001b[38;5;124;43m'\u001b[39;49m\u001b[38;5;124;43mSIG\u001b[39;49m\u001b[38;5;124;43m'\u001b[39;49m\u001b[43m]\u001b[49m\u001b[43m[\u001b[49m\u001b[38;5;241;43m0\u001b[39;49m\u001b[43m]\u001b[49m, collections)\n\u001b[1;32m     10\u001b[0m reader_bib \u001b[38;5;241m=\u001b[39m read_file(files[\u001b[38;5;124m'\u001b[39m\u001b[38;5;124mBIB\u001b[39m\u001b[38;5;124m'\u001b[39m][\u001b[38;5;241m0\u001b[39m], collections)\n",
      "\u001b[0;31mIndexError\u001b[0m: list index out of range"
     ]
    }
   ],
   "source": [
    "def read_file(file, collections):\n",
    "    reader = lcio.IOIMPL.LCFactory.getInstance().createLCReader(lcio.IO.LCReader.directAccess)\n",
    "    reader.setReadCollectionNames(collections)\n",
    "    reader.open(file)\n",
    "    return reader\n",
    "    \n",
    "collections = ['ECalBarrelCollection', 'ECalEndcapCollection']\n",
    "\n",
    "reader_sig = read_file(files['SIG'][0], collections)\n",
    "reader_bib = read_file(files['BIB'][0], collections)"
   ]
  },
  {
   "cell_type": "code",
   "execution_count": null,
   "metadata": {},
   "outputs": [],
   "source": [
    "def read_event(reader, run_number, event_index):\n",
    "    event = reader.readEvent(run_number, event_index)\n",
    "    return event\n",
    "\n",
    "bib_event = read_event(reader_bib, 0, 1760)\n",
    "sig_event = read_event(reader_sig, 0, 99606)"
   ]
  },
  {
   "cell_type": "code",
   "execution_count": null,
   "metadata": {},
   "outputs": [],
   "source": [
    "# Create histograms.\n",
    "nbins = 900\n",
    "low = -2400\n",
    "high = 2400\n",
    "h1 = root.TH2D(name=\"xy_nofilter\", \n",
    "               title=\"xy_nofilter\",\n",
    "               nbinsx=nbins,\n",
    "               xlow=low,\n",
    "               xup=high,\n",
    "               nbinsy=nbins,\n",
    "               ylow=low,\n",
    "               yup=high\n",
    "               )\n",
    "h2 = root.TH2D(name=\"xy_simplefilter\", \n",
    "               title=\"xy_simplefilter\",\n",
    "               nbinsx=nbins,\n",
    "               xlow=low,\n",
    "               xup=high,\n",
    "               nbinsy=nbins,\n",
    "               ylow=low,\n",
    "               yup=high\n",
    "               )\n",
    "h3 = root.TH2D(name=\"xy_layerfilter\", \n",
    "               title=\"xy_layerfilter\",\n",
    "               nbinsx=nbins,\n",
    "               xlow=low,\n",
    "               xup=high,\n",
    "               nbinsy=nbins,\n",
    "               ylow=low,\n",
    "               yup=high\n",
    "               )"
   ]
  },
  {
   "cell_type": "code",
   "execution_count": null,
   "metadata": {},
   "outputs": [],
   "source": [
    "# %jsroot on\n",
    "h1.Clear()\n",
    "\n",
    "print(bib_event.getCollectionNames())\n",
    "\n",
    "def get_values(simhit):\n",
    "    x = simhit.getPosition()[0]\n",
    "    y = simhit.getPosition()[1]\n",
    "    energy = simhit.getEnergy()\n",
    "    return x, y, energy\n",
    "\n",
    "def fill_hist_with_collection(hist, collection, filter, threshold):\n",
    "    for simhit in collection:\n",
    "        x, y, energy = get_values(simhit)\n",
    "        if filter(energy, threshold): hist.Fill(x, y, energy)\n",
    "    \n",
    "def plot_and_filter(collections: list, event: lcio.EVENT.LCEvent, filter, threshold, hist: root.TH2D): \n",
    "    collections_list = [event.getCollection(collection) for collection in event.getCollectionNames()]\n",
    "    print(collections_list)\n",
    "    for collection in collections_list:\n",
    "        fill_hist_with_collection(hist, collection, filter, threshold)\n",
    "\n",
    "def simple_filter(energy, threshold):\n",
    "    if energy > threshold: \n",
    "        return 1\n",
    "    else: return 0\n",
    "\n",
    "# def layer_weighted_filter(energy, layer, threshold):\n",
    "\n",
    "\n",
    "threshold = 0.000#GeV, 0MeV\n",
    "plot_and_filter(collections, sig_event, simple_filter, threshold, h1)\n",
    "plot_and_filter(collections, bib_event, simple_filter, threshold, h1)\n",
    "threshold = 0.017#GeV, 17MeV\n",
    "plot_and_filter(collections, sig_event, simple_filter, threshold, h2)\n",
    "plot_and_filter(collections, bib_event, simple_filter, threshold, h2)\n",
    "# threshold = 0.017#GeV, 17MeV\n",
    "# plot_and_filter(collections, bib_event, layer_weighted_filter, threshold, h3)\n",
    "# plot_and_filter(collections, sig_event, simple_filter, threshold, h3)\n",
    "\n",
    "    \n",
    "# Create a new canvas with two pads\n",
    "c = root.TCanvas(\"c1\", \"2-D Histograms\", 400, 400)\n",
    "c.SetBatch()\n",
    "c.Divide(2, 2)  # Divide the canvas into two pads\n",
    "c.GetPad(1).SetLogz()\n",
    "c.GetPad(2).SetLogz()\n",
    "\n",
    "# First pad\n",
    "c.cd(1)\n",
    "h1.GetYaxis().CenterTitle()\n",
    "h1.GetYaxis().RotateTitle()\n",
    "h1.GetXaxis().CenterTitle()\n",
    "h1.GetZaxis().SetTitle(\"#bf{Energy} #scale[.8]{#color[13]{#[]{Ge#kern[-.115]{V}#kern[.2]{/}#it{c}^{2}}}}\")\n",
    "h1.GetZaxis().SetTitleOffset(0.5)\n",
    "h1.GetZaxis().RotateTitle()\n",
    "h1.Draw('COL Z PLC')\n",
    "\n",
    "# Second pad\n",
    "c.cd(2)\n",
    "h2.GetYaxis().CenterTitle()\n",
    "h2.GetYaxis().RotateTitle()\n",
    "h2.GetXaxis().CenterTitle()\n",
    "h2.GetZaxis().SetTitle(\"#bf{Energy} #scale[.8]{#color[13]{#[]{Ge#kern[-.115]{V}#kern[.2]{/}#it{c}^{2}}}}\")\n",
    "h2.GetZaxis().SetTitleOffset(0.5)\n",
    "h2.GetZaxis().RotateTitle()\n",
    "h2.Draw('COL Z PLC')\n",
    "\n",
    "c.Draw()"
   ]
  },
  {
   "cell_type": "code",
   "execution_count": null,
   "metadata": {},
   "outputs": [],
   "source": []
  }
 ],
 "metadata": {
  "kernelspec": {
   "display_name": "Python 3",
   "language": "python",
   "name": "python3"
  },
  "language_info": {
   "codemirror_mode": {
    "name": "ipython",
    "version": 3
   },
   "file_extension": ".py",
   "mimetype": "text/x-python",
   "name": "python",
   "nbconvert_exporter": "python",
   "pygments_lexer": "ipython3",
   "version": "3.9.18"
  }
 },
 "nbformat": 4,
 "nbformat_minor": 2
}
